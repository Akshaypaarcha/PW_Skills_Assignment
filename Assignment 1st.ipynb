{
 "cells": [
  {
   "cell_type": "code",
   "execution_count": 3,
   "id": "5029e819",
   "metadata": {},
   "outputs": [
    {
     "name": "stdout",
     "output_type": "stream",
     "text": [
      "apple\n",
      "banana\n",
      "cherry\n"
     ]
    }
   ],
   "source": [
    "### Ans-1.\n",
    "### For loop\n",
    "items = ['apple', 'banana', 'cherry']\n",
    "for item in items:\n",
    "    print(item)"
   ]
  },
  {
   "cell_type": "code",
   "execution_count": 5,
   "id": "ea43e952",
   "metadata": {},
   "outputs": [
    {
     "name": "stdout",
     "output_type": "stream",
     "text": [
      "Enter a positive number: 345\n"
     ]
    }
   ],
   "source": [
    "### Ans-1.\n",
    "### while loop\n",
    "valid_input = False\n",
    "while not valid_input:\n",
    "    user_input = input(\"Enter a positive number: \")\n",
    "    if user_input.isdigit() and int(user_input) > 0:\n",
    "        valid_input = True\n",
    "    else:\n",
    "        print(\"Invalid input. Please enter a positive number.\")\n"
   ]
  },
  {
   "cell_type": "code",
   "execution_count": 6,
   "id": "19d66d89",
   "metadata": {},
   "outputs": [
    {
     "name": "stdout",
     "output_type": "stream",
     "text": [
      "Sum of the first 10 natural numbers: 55\n",
      "Product of the first 10 natural numbers: 3628800\n"
     ]
    }
   ],
   "source": [
    "### Ans-2\n",
    "# Using for loop to calculate sum and product of first 10 natural numbers\n",
    "n = 10\n",
    "sum_numbers = 0\n",
    "product_numbers = 1\n",
    "\n",
    "# Calculating sum and product using for loop\n",
    "for i in range(1, n+1):\n",
    "    sum_numbers += i\n",
    "    product_numbers *= i\n",
    "\n",
    "print(f\"Sum of the first {n} natural numbers: {sum_numbers}\")\n",
    "print(f\"Product of the first {n} natural numbers: {product_numbers}\")"
   ]
  },
  {
   "cell_type": "code",
   "execution_count": 7,
   "id": "e22e1133",
   "metadata": {},
   "outputs": [
    {
     "name": "stdout",
     "output_type": "stream",
     "text": [
      "Enter the units of electricity consumed in a month: 400\n",
      "The total electricity bill for 400 units is: Rs. 4050.00\n"
     ]
    }
   ],
   "source": [
    "###Ans -3\n",
    "def compute_electricity_bill(units_consumed):\n",
    "    total_bill = 0\n",
    "    \n",
    "    if units_consumed <= 100:\n",
    "        total_bill = units_consumed * 4.5\n",
    "    elif units_consumed <= 200:\n",
    "        total_bill = 100 * 4.5 + (units_consumed - 100) * 6\n",
    "    elif units_consumed <= 300:\n",
    "        total_bill = 100 * 4.5 + 100 * 6 + (units_consumed - 200) * 10\n",
    "    else:\n",
    "        total_bill = 100 * 4.5 + 100 * 6 + 100 * 10 + (units_consumed - 300) * 20\n",
    "    \n",
    "    return total_bill\n",
    "\n",
    "# Taking input from user for units consumed\n",
    "units_consumed = int(input(\"Enter the units of electricity consumed in a month: \"))\n",
    "\n",
    "# Computing the electricity bill\n",
    "total_bill = compute_electricity_bill(units_consumed)\n",
    "\n",
    "# Outputting the total electricity bill\n",
    "print(f\"The total electricity bill for {units_consumed} units is: Rs. {total_bill:.2f}\")"
   ]
  },
  {
   "cell_type": "code",
   "execution_count": 8,
   "id": "61d9b5c6",
   "metadata": {},
   "outputs": [
    {
     "name": "stdout",
     "output_type": "stream",
     "text": [
      "[2, 4, 5, 6, 8, 10, 12, 14, 15, 16, 18, 20, 22, 24, 25, 26, 28, 30, 32, 34, 35, 36, 38, 40, 42, 44, 45, 46, 48, 50, 52, 54, 55, 56, 58, 60, 62, 64, 65, 66, 68, 70, 72, 74, 75, 76, 78, 80, 82, 84, 85, 86, 88, 90, 92, 94, 95, 96, 98, 100]\n"
     ]
    }
   ],
   "source": [
    "### Ans-4 Using loop\n",
    "# Initialize an empty list to store numbers whose cubes are divisible by 4 or 5\n",
    "result_list = []\n",
    "\n",
    "# Iterate through numbers from 1 to 100\n",
    "for num in range(1, 101):\n",
    "    # Calculate the cube of the current number\n",
    "    cube = num ** 3\n",
    "    # Check if the cube is divisible by 4 or 5\n",
    "    if cube % 4 == 0 or cube % 5 == 0:\n",
    "        # If true, append the original number to the result list\n",
    "        result_list.append(num)\n",
    "\n",
    "# Print the result list\n",
    "print(result_list)\n"
   ]
  },
  {
   "cell_type": "code",
   "execution_count": 9,
   "id": "5905105a",
   "metadata": {},
   "outputs": [
    {
     "name": "stdout",
     "output_type": "stream",
     "text": [
      "[2, 4, 5, 6, 8, 10, 12, 14, 15, 16, 18, 20, 22, 24, 25, 26, 28, 30, 32, 34, 35, 36, 38, 40, 42, 44, 45, 46, 48, 50, 52, 54, 55, 56, 58, 60, 62, 64, 65, 66, 68, 70, 72, 74, 75, 76, 78, 80, 82, 84, 85, 86, 88, 90, 92, 94, 95, 96, 98, 100]\n"
     ]
    }
   ],
   "source": [
    "### Using while loop\n",
    "num = 1\n",
    "result_list = []\n",
    "\n",
    "# Iterate while num is less than or equal to 100\n",
    "while num <= 100:\n",
    "    # Calculate the cube of the current number\n",
    "    cube = num ** 3\n",
    "    # Check if the cube is divisible by 4 or 5\n",
    "    if cube % 4 == 0 or cube % 5 == 0:\n",
    "        # If true, append the original number to the result list\n",
    "        result_list.append(num)\n",
    "    # Increment num\n",
    "    num += 1\n",
    "\n",
    "# Print the result list\n",
    "print(result_list)"
   ]
  },
  {
   "cell_type": "code",
   "execution_count": 10,
   "id": "977506b2",
   "metadata": {},
   "outputs": [
    {
     "name": "stdout",
     "output_type": "stream",
     "text": [
      "Total number of vowels in the string: 12\n"
     ]
    }
   ],
   "source": [
    "### Ans-5\n",
    "# Define the string\n",
    "string = \"I want to become a data scientist\"\n",
    "\n",
    "# Define a set of vowels (both lowercase and uppercase)\n",
    "vowels = \"aeiouAEIOU\"\n",
    "\n",
    "# Initialize a counter for vowels\n",
    "vowel_count = 0\n",
    "\n",
    "# Iterate through each character in the string\n",
    "for char in string:\n",
    "    # Check if the character is a vowel\n",
    "    if char in vowels:\n",
    "        # If it is, increment the vowel count\n",
    "        vowel_count += 1\n",
    "\n",
    "# Print the total count of vowels\n",
    "print(\"Total number of vowels in the string:\", vowel_count)"
   ]
  },
  {
   "cell_type": "code",
   "execution_count": null,
   "id": "51634714",
   "metadata": {},
   "outputs": [],
   "source": []
  }
 ],
 "metadata": {
  "kernelspec": {
   "display_name": "Python 3 (ipykernel)",
   "language": "python",
   "name": "python3"
  },
  "language_info": {
   "codemirror_mode": {
    "name": "ipython",
    "version": 3
   },
   "file_extension": ".py",
   "mimetype": "text/x-python",
   "name": "python",
   "nbconvert_exporter": "python",
   "pygments_lexer": "ipython3",
   "version": "3.9.12"
  }
 },
 "nbformat": 4,
 "nbformat_minor": 5
}
